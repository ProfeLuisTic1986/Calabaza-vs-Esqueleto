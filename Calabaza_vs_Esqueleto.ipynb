{
  "nbformat": 4,
  "nbformat_minor": 0,
  "metadata": {
    "colab": {
      "provenance": [],
      "authorship_tag": "ABX9TyPTcRSHNaAz21T+ifjoGJsP",
      "include_colab_link": true
    },
    "kernelspec": {
      "name": "python3",
      "display_name": "Python 3"
    },
    "language_info": {
      "name": "python"
    }
  },
  "cells": [
    {
      "cell_type": "markdown",
      "metadata": {
        "id": "view-in-github",
        "colab_type": "text"
      },
      "source": [
        "<a href=\"https://colab.research.google.com/github/ProfeLuisTic1986/Calabaza-vs-Esqueleto/blob/main/Calabaza_vs_Esqueleto.ipynb\" target=\"_parent\"><img src=\"https://colab.research.google.com/assets/colab-badge.svg\" alt=\"Open In Colab\"/></a>"
      ]
    },
    {
      "cell_type": "markdown",
      "source": [
        "**Parte 1**"
      ],
      "metadata": {
        "id": "ktc_ny19udUd"
      }
    },
    {
      "cell_type": "code",
      "execution_count": null,
      "metadata": {
        "id": "pM3YGFhWuY0B"
      },
      "outputs": [],
      "source": [
        "import pygame, sys\n",
        "pygame.init()\n",
        "\n",
        "ANCHO_ALTO = (480, 640)\n",
        "CENTRO = (ANCHO_ALTO[0]//2, ANCHO_ALTO[1]//2)\n",
        "NOCHE = (18, 18, 32)\n",
        "LUNA = (230, 230, 200)\n",
        "NARANJA = (255, 140, 0)\n",
        "HUESO = (235, 235, 235)\n",
        "TAM_CALABAZA = (35, 25)\n",
        "\n",
        "pantalla = pygame.display.set_mode(ANCHO_ALTO)\n",
        "reloj = pygame.time.Clock()\n",
        "\n",
        "def dibujar_calabaza(pos):\n",
        "    x, y = pos\n",
        "    w, h = TAM_CALABAZA\n",
        "    # cuerpo\n",
        "    pygame.draw.ellipse(pantalla, NARANJA, (x, y, w, h))\n",
        "    # rabito (tallo)\n",
        "    pygame.draw.rect(pantalla, (20, 120, 20), (x + w//2 - 3, y - 5, 6, 6))\n",
        "\n",
        "pos_inicial = (CENTRO[0] - TAM_CALABAZA[0]//2, ANCHO_ALTO[1] - 100)\n",
        "\n",
        "while True:\n",
        "    for e in pygame.event.get():\n",
        "        if e.type == pygame.QUIT: pygame.quit(); sys.exit()\n",
        "    pantalla.fill(NOCHE)\n",
        "    pygame.draw.circle(pantalla, LUNA, (ANCHO_ALTO[0]-70, 70), 40)\n",
        "    dibujar_calabaza(pos_inicial)\n",
        "    pygame.display.flip(); reloj.tick(60)"
      ]
    },
    {
      "cell_type": "markdown",
      "source": [
        "**Parte 2**"
      ],
      "metadata": {
        "id": "CxVM9K68uk-1"
      }
    },
    {
      "cell_type": "code",
      "source": [
        "import pygame, sys\n",
        "pygame.init()\n",
        "\n",
        "ANCHO_ALTO = (480, 640)\n",
        "CENTRO = (ANCHO_ALTO[0]//2, ANCHO_ALTO[1]//2)\n",
        "NOCHE = (18, 18, 32)\n",
        "LUNA = (230, 230, 200)\n",
        "NARANJA = (255, 140, 0)\n",
        "TAM_CALABAZA = (35, 25)\n",
        "\n",
        "pantalla = pygame.display.set_mode(ANCHO_ALTO)\n",
        "reloj = pygame.time.Clock()\n",
        "\n",
        "jugador_pos = [CENTRO[0] - TAM_CALABAZA[0]//2, ANCHO_ALTO[1] - 100]\n",
        "\n",
        "def dibujar_calabaza(pos):\n",
        "    x, y = pos\n",
        "    w, h = TAM_CALABAZA\n",
        "    # cuerpo\n",
        "    pygame.draw.ellipse(pantalla, NARANJA, (x, y, w, h))\n",
        "    # rabito (tallo)\n",
        "    pygame.draw.rect(pantalla, (20, 120, 20), (x + w//2 - 3, y - 5, 6, 6))\n",
        "\n",
        "while True:\n",
        "    for e in pygame.event.get():\n",
        "        if e.type == pygame.QUIT: pygame.quit(); sys.exit()\n",
        "    keys = pygame.key.get_pressed()\n",
        "    if keys[pygame.K_LEFT]:  jugador_pos[0] -= 6\n",
        "    if keys[pygame.K_RIGHT]: jugador_pos[0] += 6\n",
        "    if keys[pygame.K_UP]:    jugador_pos[1] -= 6\n",
        "    if keys[pygame.K_DOWN]:  jugador_pos[1] += 6\n",
        "    jugador_pos[0] = max(0, min(ANCHO_ALTO[0]-TAM_CALABAZA[0], jugador_pos[0]))\n",
        "    jugador_pos[1] = max(0, min(ANCHO_ALTO[1]-TAM_CALABAZA[1], jugador_pos[1]))\n",
        "\n",
        "    pantalla.fill(NOCHE)\n",
        "    pygame.draw.circle(pantalla, LUNA, (ANCHO_ALTO[0]-70, 70), 40)\n",
        "    dibujar_calabaza(jugador_pos)\n",
        "    pygame.display.flip(); reloj.tick(60)"
      ],
      "metadata": {
        "id": "GhxVEeTGunUF"
      },
      "execution_count": null,
      "outputs": []
    },
    {
      "cell_type": "markdown",
      "source": [
        "**Parte 3**"
      ],
      "metadata": {
        "id": "fJhFsLaPursy"
      }
    },
    {
      "cell_type": "code",
      "source": [
        "import pygame, random, sys\n",
        "pygame.init()\n",
        "\n",
        "ANCHO_ALTO = (480, 640)\n",
        "CENTRO = (ANCHO_ALTO[0]//2, ANCHO_ALTO[1]//2)\n",
        "NOCHE = (18, 18, 32)\n",
        "LUNA = (230, 230, 200)\n",
        "NARANJA = (255, 140, 0)\n",
        "HUESO = (235, 235, 235)\n",
        "BLANCO = (255, 255, 255)\n",
        "TAM_CALABAZA = (35, 25)\n",
        "TAM_ESQUELETO = (26, 34)\n",
        "\n",
        "pantalla = pygame.display.set_mode(ANCHO_ALTO)\n",
        "reloj = pygame.time.Clock()\n",
        "font = pygame.font.SysFont(None, 28)\n",
        "\n",
        "jugador_pos = [CENTRO[0] - TAM_CALABAZA[0]//2, ANCHO_ALTO[1] - 100]\n",
        "esqueletos = [[random.randint(0, ANCHO_ALTO[0]-TAM_ESQUELETO[0]), -TAM_ESQUELETO[1], random.randint(3, 6)] for _ in range(4)]\n",
        "puntaje, game_over = 0, False\n",
        "\n",
        "def dibujar_calabaza(pos):\n",
        "    x, y = pos\n",
        "    w, h = TAM_CALABAZA\n",
        "    # cuerpo\n",
        "    pygame.draw.ellipse(pantalla, NARANJA, (x, y, w, h))\n",
        "    # rabito (tallo)\n",
        "    pygame.draw.rect(pantalla, (20, 120, 20), (x + w//2 - 3, y - 5, 6, 6))\n",
        "\n",
        "def dibujar_esqueleto(pos):\n",
        "    x, y = pos; w, h = TAM_ESQUELETO\n",
        "    pygame.draw.circle(pantalla, HUESO, (x+w//2, y+8), 8)\n",
        "    pygame.draw.rect(pantalla, HUESO, (x+w//2-2, y+16, 4, h-16))\n",
        "    for rib in (20, 24, 28): pygame.draw.line(pantalla, HUESO, (x+6, y+rib), (x+w-6, y+rib), 2)\n",
        "\n",
        "while True:\n",
        "    for e in pygame.event.get():\n",
        "        if e.type == pygame.QUIT: pygame.quit(); sys.exit()\n",
        "        if e.type == pygame.KEYDOWN and game_over and e.key == pygame.K_r:\n",
        "            jugador_pos[:] = [CENTRO[0] - TAM_CALABAZA[0]//2, ANCHO_ALTO[1] - 100]\n",
        "            esqueletos[:] = [[random.randint(0, ANCHO_ALTO[0]-TAM_ESQUELETO[0]), -TAM_ESQUELETO[1], random.randint(3,6)] for _ in range(4)]\n",
        "            puntaje, game_over = 0, False\n",
        "\n",
        "    if not game_over:\n",
        "        keys = pygame.key.get_pressed()\n",
        "        if keys[pygame.K_LEFT]:  jugador_pos[0] -= 6\n",
        "        if keys[pygame.K_RIGHT]: jugador_pos[0] += 6\n",
        "        if keys[pygame.K_UP]:    jugador_pos[1] -= 6\n",
        "        if keys[pygame.K_DOWN]:  jugador_pos[1] += 6\n",
        "        jugador_pos[0] = max(0, min(ANCHO_ALTO[0]-TAM_CALABAZA[0], jugador_pos[0]))\n",
        "        jugador_pos[1] = max(0, min(ANCHO_ALTO[1]-TAM_CALABAZA[1], jugador_pos[1]))\n",
        "        for s in esqueletos:\n",
        "            s[1] += s[2]\n",
        "            if s[1] > ANCHO_ALTO[1]:\n",
        "                s[0] = random.randint(0, ANCHO_ALTO[0]-TAM_ESQUELETO[0]); s[1] = -TAM_ESQUELETO[1]; puntaje += 1\n",
        "            if pygame.Rect(jugador_pos[0], jugador_pos[1], *TAM_CALABAZA).colliderect(pygame.Rect(s[0], s[1], *TAM_ESQUELETO)):\n",
        "                game_over = True\n",
        "\n",
        "    pantalla.fill(NOCHE)\n",
        "    pygame.draw.circle(pantalla, LUNA, (ANCHO_ALTO[0]-70, 70), 40)\n",
        "    for s in esqueletos: dibujar_esqueleto((s[0], s[1]))\n",
        "    dibujar_calabaza(jugador_pos)\n",
        "    txt = \"¡Te atraparon! R=reintentar\" if game_over else f\"Puntos: {puntaje}\"\n",
        "    pantalla.blit(font.render(txt, True, BLANCO), (10, 10))\n",
        "    pygame.display.flip(); reloj.tick(60)"
      ],
      "metadata": {
        "id": "vvHRCuoputvC"
      },
      "execution_count": null,
      "outputs": []
    }
  ]
}